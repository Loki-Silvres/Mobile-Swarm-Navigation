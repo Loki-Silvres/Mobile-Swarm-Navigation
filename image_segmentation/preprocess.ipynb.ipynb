{
  "nbformat": 4,
  "nbformat_minor": 0,
  "metadata": {
    "colab": {
      "provenance": []
    },
    "kernelspec": {
      "name": "python3",
      "display_name": "Python 3"
    },
    "language_info": {
      "name": "python"
    }
  },
  "cells": [
    {
      "cell_type": "code",
      "execution_count": 1,
      "metadata": {
        "colab": {
          "base_uri": "https://localhost:8080/"
        },
        "id": "qALkz8o0QpNQ",
        "outputId": "d6eb56cf-54d0-47b7-a305-c42a26d7009f"
      },
      "outputs": [
        {
          "output_type": "stream",
          "name": "stdout",
          "text": [
            "Requirement already satisfied: requests in /usr/local/lib/python3.10/dist-packages (2.32.3)\n",
            "Requirement already satisfied: charset-normalizer<4,>=2 in /usr/local/lib/python3.10/dist-packages (from requests) (3.4.0)\n",
            "Requirement already satisfied: idna<4,>=2.5 in /usr/local/lib/python3.10/dist-packages (from requests) (3.10)\n",
            "Requirement already satisfied: urllib3<3,>=1.21.1 in /usr/local/lib/python3.10/dist-packages (from requests) (2.2.3)\n",
            "Requirement already satisfied: certifi>=2017.4.17 in /usr/local/lib/python3.10/dist-packages (from requests) (2024.8.30)\n"
          ]
        }
      ],
      "source": [
        "pip install requests"
      ]
    },
    {
      "cell_type": "code",
      "source": [],
      "metadata": {
        "id": "NAFU9NvvJ8D8"
      },
      "execution_count": null,
      "outputs": []
    },
    {
      "cell_type": "code",
      "source": [
        "import requests\n",
        "import numpy as np\n",
        "def download_file(url, save_path):\n",
        "    # Send a GET request to the URL\n",
        "    response = requests.get(url, stream=True)\n",
        "\n",
        "    # Check if the request was successful (status code 200)\n",
        "    if response.status_code == 200:\n",
        "        # Open the file in write-binary mode and save the content\n",
        "        with open(save_path, 'wb') as f:\n",
        "            for chunk in response.iter_content(chunk_size=1024):\n",
        "                if chunk:\n",
        "                    f.write(chunk)\n",
        "        print(f\"File downloaded successfully: {save_path}\")\n",
        "    else:\n",
        "        print(f\"Failed to download file. Status code: {response.status_code}\")\n",
        "\n",
        "# Example usage\n"
      ],
      "metadata": {
        "id": "TPrEMtVNVhtm"
      },
      "execution_count": 2,
      "outputs": []
    },
    {
      "cell_type": "code",
      "source": [
        "url =  'http://images.cocodataset.org/zips/train2017.zip'\n",
        "save_path = \"train.zip\"\n",
        "download_file(url, save_path)"
      ],
      "metadata": {
        "colab": {
          "base_uri": "https://localhost:8080/"
        },
        "id": "_AD70mBUcUcr",
        "outputId": "29bc60d8-d363-4b21-cfdf-c2224b7f4d75"
      },
      "execution_count": 3,
      "outputs": [
        {
          "output_type": "stream",
          "name": "stdout",
          "text": [
            "File downloaded successfully: train.zip\n"
          ]
        }
      ]
    },
    {
      "cell_type": "code",
      "source": [
        "url =  'https://dl.fbaipublicfiles.com/LVIS/lvis_v1_train.json.zip'\n",
        "save_path = \"lvis_train_json.zip\"\n",
        "download_file(url, save_path)"
      ],
      "metadata": {
        "colab": {
          "base_uri": "https://localhost:8080/"
        },
        "id": "McJsySCAaQMv",
        "outputId": "c675ceba-1b3e-48db-a38a-dea0c7287044"
      },
      "execution_count": 4,
      "outputs": [
        {
          "output_type": "stream",
          "name": "stdout",
          "text": [
            "File downloaded successfully: lvis_train_json.zip\n"
          ]
        }
      ]
    },
    {
      "cell_type": "code",
      "source": [
        "url =  'http://images.cocodataset.org/zips/val2017.zip'\n",
        "save_path = \"test.zip\"\n",
        "download_file(url, save_path)"
      ],
      "metadata": {
        "colab": {
          "base_uri": "https://localhost:8080/"
        },
        "id": "TFlaMTGzWTEF",
        "outputId": "ee9383d1-0c92-4542-bcd8-91cd7a30eaf1"
      },
      "execution_count": 5,
      "outputs": [
        {
          "output_type": "stream",
          "name": "stdout",
          "text": [
            "File downloaded successfully: test.zip\n"
          ]
        }
      ]
    },
    {
      "cell_type": "code",
      "source": [
        "url =  'https://dl.fbaipublicfiles.com/LVIS/lvis_v1_val.json.zip'\n",
        "save_path = \"lvis_val_json.zip\"\n",
        "download_file(url, save_path)"
      ],
      "metadata": {
        "id": "7wYQdLMDXPDK",
        "colab": {
          "base_uri": "https://localhost:8080/"
        },
        "outputId": "f7551441-8de1-475e-ce18-9a28058e2d80"
      },
      "execution_count": 6,
      "outputs": [
        {
          "output_type": "stream",
          "name": "stdout",
          "text": [
            "File downloaded successfully: lvis_val_json.zip\n"
          ]
        }
      ]
    },
    {
      "cell_type": "code",
      "source": [
        "import os\n",
        "import zipfile\n",
        "\n",
        "os.makedirs(\"yolo_dataset/train\",exist_ok = True)\n",
        "os.makedirs(\"yolo_dataset/valid\",exist_ok = True)"
      ],
      "metadata": {
        "id": "lUasFXHEay39"
      },
      "execution_count": 7,
      "outputs": []
    },
    {
      "cell_type": "code",
      "source": [
        "\n",
        "import zipfile\n",
        "import os\n",
        "\n",
        "def extract_zip(zip_path, extract_to):\n",
        "    \"\"\"Extract files from a ZIP archive.\"\"\"\n",
        "    try:\n",
        "        # Open the ZIP file\n",
        "        with zipfile.ZipFile(zip_path, 'r') as zip_ref:\n",
        "            # Extract all files to the specified directory\n",
        "            zip_ref.extractall(extract_to)\n",
        "            print(f\"Extracted files to: {extract_to}\")\n",
        "    except Exception as e:\n",
        "        print(f\"Error extracting ZIP file: {e}\")\n",
        "\n",
        "# Example usage\n",
        "zip_path = '/content/train.zip'  # Path to your ZIP file\n",
        "extract_to = 'yolo_dataset/train/images'  # Directory where you want to extract the files\n",
        "\n",
        "os.makedirs(extract_to, exist_ok=True)\n",
        "extract_zip(zip_path, extract_to)\n",
        "\n",
        "zip_path = 'test.zip'  # Path to your ZIP file\n",
        "extract_to = 'yolo_dataset/valid/images'  # Directory where you want to extract the files\n",
        "\n",
        "os.makedirs(extract_to, exist_ok=True)\n",
        "extract_zip(zip_path, extract_to)\n",
        "\n",
        "\n",
        "zip_path = 'lvis_val_json.zip'  # Path to your ZIP file\n",
        "extract_to = '/content'  # Directory where you want to extract the files\n",
        "\n",
        "os.makedirs(extract_to, exist_ok=True)\n",
        "extract_zip(zip_path, extract_to)\n",
        "\n",
        "\n",
        "\n",
        "zip_path = 'lvis_train_json.zip'  # Path to your ZIP file\n",
        "extract_to = '/content'  # Directory where you want to extract the files\n",
        "\n",
        "os.makedirs(extract_to, exist_ok=True)\n",
        "extract_zip(zip_path, extract_to)"
      ],
      "metadata": {
        "colab": {
          "base_uri": "https://localhost:8080/"
        },
        "id": "-gu9uKzFbgZD",
        "outputId": "1220fa56-f35d-4068-c2fc-0d29c45f5056"
      },
      "execution_count": 8,
      "outputs": [
        {
          "output_type": "stream",
          "name": "stdout",
          "text": [
            "Extracted files to: yolo_dataset/train/images\n",
            "Extracted files to: yolo_dataset/valid/images\n",
            "Extracted files to: /content\n",
            "Extracted files to: /content\n"
          ]
        }
      ]
    },
    {
      "cell_type": "code",
      "source": [
        "len(os.listdir('/content/yolo_dataset/train/train2017'))"
      ],
      "metadata": {
        "colab": {
          "base_uri": "https://localhost:8080/"
        },
        "id": "o9vbbH45dzoj",
        "outputId": "045b8176-e318-45d7-ce74-4d2108a2624b"
      },
      "execution_count": null,
      "outputs": [
        {
          "output_type": "execute_result",
          "data": {
            "text/plain": [
              "118287"
            ]
          },
          "metadata": {},
          "execution_count": 23
        }
      ]
    },
    {
      "cell_type": "code",
      "source": [
        "zip_path = '/content/lvis_train_json.zip'  # Path to your ZIP file\n",
        "extract_to = 'yolo_dataset/train/labels'  # Directory where you want to extract the files\n",
        "\n",
        "os.makedirs(extract_to, exist_ok=True)\n",
        "extract_zip(zip_path, extract_to)"
      ],
      "metadata": {
        "colab": {
          "base_uri": "https://localhost:8080/"
        },
        "id": "c9X9x5SgezfQ",
        "outputId": "4a516dcf-88a0-4fe6-a973-ecbaf2fd0b85"
      },
      "execution_count": 9,
      "outputs": [
        {
          "output_type": "stream",
          "name": "stdout",
          "text": [
            "Extracted files to: yolo_dataset/train/labels\n"
          ]
        }
      ]
    },
    {
      "cell_type": "code",
      "source": [
        "zip_path = '/content/lvis_val_json.zip'  # Path to your ZIP file\n",
        "extract_to = 'yolo_dataset/valid/labels'  # Directory where you want to extract the files\n",
        "\n",
        "os.makedirs(extract_to, exist_ok=True)\n",
        "extract_zip(zip_path, extract_to)"
      ],
      "metadata": {
        "colab": {
          "base_uri": "https://localhost:8080/"
        },
        "id": "6050gyW7e_M6",
        "outputId": "a040d24a-6508-4ab4-b87e-da51d4d42563"
      },
      "execution_count": 10,
      "outputs": [
        {
          "output_type": "stream",
          "name": "stdout",
          "text": [
            "Extracted files to: yolo_dataset/valid/labels\n"
          ]
        }
      ]
    },
    {
      "cell_type": "code",
      "source": [
        "import json\n",
        "\n",
        "def read_json(file_path):\n",
        "    \"\"\"Read a JSON file and return its content as a Python dictionary.\"\"\"\n",
        "    try:\n",
        "        with open(file_path, 'r') as file:\n",
        "            data = json.load(file)  # Parse JSON data into a Python dictionary\n",
        "            return data\n",
        "    except FileNotFoundError:\n",
        "        print(f\"Error: The file '{file_path}' was not found.\")\n",
        "    except json.JSONDecodeError:\n",
        "        print(f\"Error: Failed to decode the JSON in '{file_path}'.\")\n",
        "    except Exception as e:\n",
        "        print(f\"Error: {e}\")\n",
        "\n",
        "# Example usage\n",
        "file_path = 'lvis_v1_val.json'  # Path to your JSON file\n",
        "data = read_json(file_path)\n"
      ],
      "metadata": {
        "id": "G5NbS1J2fgRB"
      },
      "execution_count": 22,
      "outputs": []
    },
    {
      "cell_type": "code",
      "source": [
        "file_path = 'lvis_v1_train.json'  # Path to your JSON file\n",
        "data_t = read_json(file_path)"
      ],
      "metadata": {
        "id": "Mi0ElZ2MaFqL"
      },
      "execution_count": null,
      "outputs": []
    },
    {
      "cell_type": "code",
      "source": [
        "data.keys()"
      ],
      "metadata": {
        "colab": {
          "base_uri": "https://localhost:8080/"
        },
        "id": "eNKOA6GnhWUD",
        "outputId": "8d05aa8c-ec7d-4794-e774-616ad0f8c916"
      },
      "execution_count": null,
      "outputs": [
        {
          "output_type": "execute_result",
          "data": {
            "text/plain": [
              "dict_keys(['info', 'categories', 'annotations', 'images', 'licenses'])"
            ]
          },
          "metadata": {},
          "execution_count": 44
        }
      ]
    },
    {
      "cell_type": "code",
      "source": [
        "os.listdir('yolo_dataset/train/train2017')[0]"
      ],
      "metadata": {
        "colab": {
          "base_uri": "https://localhost:8080/",
          "height": 36
        },
        "id": "o9zcy-74jLCi",
        "outputId": "372b3aa3-a4f0-4ebe-d567-2369b613137b"
      },
      "execution_count": null,
      "outputs": [
        {
          "output_type": "execute_result",
          "data": {
            "text/plain": [
              "'000000027627.jpg'"
            ],
            "application/vnd.google.colaboratory.intrinsic+json": {
              "type": "string"
            }
          },
          "metadata": {},
          "execution_count": 105
        }
      ]
    },
    {
      "cell_type": "code",
      "source": [
        "data['annotations'][0]['segmentation']\n",
        "data['annotations'][0]['id']"
      ],
      "metadata": {
        "id": "bJGVCei4hV-k"
      },
      "execution_count": null,
      "outputs": []
    },
    {
      "cell_type": "code",
      "source": [
        "os.listdir('yolo_dataset/valid/annotations')"
      ],
      "metadata": {
        "colab": {
          "base_uri": "https://localhost:8080/"
        },
        "id": "eTWZJaEAgQCz",
        "outputId": "6b9fd59b-ef88-4db8-f939-d774715065b6"
      },
      "execution_count": null,
      "outputs": [
        {
          "output_type": "execute_result",
          "data": {
            "text/plain": [
              "['lvis_v1_val.json']"
            ]
          },
          "metadata": {},
          "execution_count": 106
        }
      ]
    },
    {
      "cell_type": "code",
      "source": [
        "(data['annotations'][0]).keys()"
      ],
      "metadata": {
        "colab": {
          "base_uri": "https://localhost:8080/"
        },
        "id": "lC_74T7JkQ0X",
        "outputId": "9e4504b7-886c-484e-cb55-7b209ee80d2b"
      },
      "execution_count": null,
      "outputs": [
        {
          "output_type": "execute_result",
          "data": {
            "text/plain": [
              "dict_keys(['area', 'id', 'segmentation', 'image_id', 'bbox', 'category_id'])"
            ]
          },
          "metadata": {},
          "execution_count": 101
        }
      ]
    },
    {
      "cell_type": "code",
      "source": [
        "data['images'][0].keys()"
      ],
      "metadata": {
        "colab": {
          "base_uri": "https://localhost:8080/"
        },
        "id": "08aC3mCEuCZw",
        "outputId": "8b3ee82f-1d4a-470e-d974-56223000982a"
      },
      "execution_count": null,
      "outputs": [
        {
          "output_type": "execute_result",
          "data": {
            "text/plain": [
              "dict_keys(['date_captured', 'neg_category_ids', 'id', 'license', 'height', 'width', 'flickr_url', 'coco_url', 'not_exhaustive_category_ids'])"
            ]
          },
          "metadata": {},
          "execution_count": 129
        }
      ]
    },
    {
      "cell_type": "code",
      "source": [
        "data['annotations'][0].keys()"
      ],
      "metadata": {
        "colab": {
          "base_uri": "https://localhost:8080/"
        },
        "id": "YraH6U95uVW9",
        "outputId": "5d747d10-7821-4257-91d8-71878ff8f2a8"
      },
      "execution_count": null,
      "outputs": [
        {
          "output_type": "execute_result",
          "data": {
            "text/plain": [
              "dict_keys(['area', 'id', 'segmentation', 'image_id', 'bbox', 'category_id'])"
            ]
          },
          "metadata": {},
          "execution_count": 143
        }
      ]
    },
    {
      "cell_type": "code",
      "source": [
        "data['annotations'][0]['image_id']"
      ],
      "metadata": {
        "colab": {
          "base_uri": "https://localhost:8080/"
        },
        "id": "RlZFFtFaviaM",
        "outputId": "39afe8b0-2e1c-4fb9-a885-79ee7fce0ded"
      },
      "execution_count": null,
      "outputs": [
        {
          "output_type": "execute_result",
          "data": {
            "text/plain": [
              "446522"
            ]
          },
          "metadata": {},
          "execution_count": 146
        }
      ]
    },
    {
      "cell_type": "code",
      "source": [
        "data['annotations'][0]['bbox']"
      ],
      "metadata": {
        "colab": {
          "base_uri": "https://localhost:8080/"
        },
        "id": "NYM3ztvKx4Ch",
        "outputId": "92ed82a6-a654-4288-8c87-1180fbb71e90"
      },
      "execution_count": null,
      "outputs": [
        {
          "output_type": "execute_result",
          "data": {
            "text/plain": [
              "[83.08, 219.88, 301.69, 420.12]"
            ]
          },
          "metadata": {},
          "execution_count": 151
        }
      ]
    },
    {
      "cell_type": "code",
      "source": [
        "a = []"
      ],
      "metadata": {
        "id": "fVz3IKiZJTpX"
      },
      "execution_count": null,
      "outputs": []
    },
    {
      "cell_type": "code",
      "source": [],
      "metadata": {
        "colab": {
          "base_uri": "https://localhost:8080/",
          "height": 141
        },
        "id": "v0EI4ra5Kf8E",
        "outputId": "1ccde3ea-91f6-4960-c517-f538fd89c2ab"
      },
      "execution_count": null,
      "outputs": [
        {
          "output_type": "error",
          "ename": "TypeError",
          "evalue": "object of type 'int' has no len()",
          "traceback": [
            "\u001b[0;31m---------------------------------------------------------------------------\u001b[0m",
            "\u001b[0;31mTypeError\u001b[0m                                 Traceback (most recent call last)",
            "\u001b[0;32m<ipython-input-193-1a2e6ec5f1e3>\u001b[0m in \u001b[0;36m<cell line: 1>\u001b[0;34m()\u001b[0m\n\u001b[0;32m----> 1\u001b[0;31m \u001b[0mlen\u001b[0m\u001b[0;34m(\u001b[0m\u001b[0ma\u001b[0m\u001b[0;34m)\u001b[0m\u001b[0;34m\u001b[0m\u001b[0;34m\u001b[0m\u001b[0m\n\u001b[0m",
            "\u001b[0;31mTypeError\u001b[0m: object of type 'int' has no len()"
          ]
        }
      ]
    },
    {
      "cell_type": "code",
      "source": [],
      "metadata": {
        "id": "9cmAfnD4JZt9"
      },
      "execution_count": null,
      "outputs": []
    },
    {
      "cell_type": "code",
      "source": [
        "A = np.array(a)"
      ],
      "metadata": {
        "id": "YO6_W2UPJjjj"
      },
      "execution_count": null,
      "outputs": []
    },
    {
      "cell_type": "code",
      "source": [
        "A.shape"
      ],
      "metadata": {
        "colab": {
          "base_uri": "https://localhost:8080/"
        },
        "id": "V-YwyMSnKjTH",
        "outputId": "4d1bd69c-4b49-4ccc-817f-b10e9ca47ee1"
      },
      "execution_count": null,
      "outputs": [
        {
          "output_type": "execute_result",
          "data": {
            "text/plain": [
              "(244707,)"
            ]
          },
          "metadata": {},
          "execution_count": 201
        }
      ]
    },
    {
      "cell_type": "code",
      "source": [
        "A.sum()"
      ],
      "metadata": {
        "colab": {
          "base_uri": "https://localhost:8080/"
        },
        "id": "y8OSsZOhJjfk",
        "outputId": "0e0d00ee-49c0-4c79-d998-1b1c2d0c8f48"
      },
      "execution_count": null,
      "outputs": [
        {
          "output_type": "execute_result",
          "data": {
            "text/plain": [
              "311595"
            ]
          },
          "metadata": {},
          "execution_count": 202
        }
      ]
    },
    {
      "cell_type": "code",
      "source": [
        "data['annotations'][0]['segmentation']"
      ],
      "metadata": {
        "colab": {
          "base_uri": "https://localhost:8080/"
        },
        "id": "6KyzDWN1zWUo",
        "outputId": "504a4a3e-6c65-4385-b9e9-08e0ebce7183"
      },
      "execution_count": null,
      "outputs": [
        {
          "output_type": "execute_result",
          "data": {
            "text/plain": [
              "[[270.75,\n",
              "  598.57,\n",
              "  261.98,\n",
              "  598.57,\n",
              "  247.84,\n",
              "  598.57,\n",
              "  234.68,\n",
              "  598.08,\n",
              "  221.52,\n",
              "  598.08,\n",
              "  208.84,\n",
              "  598.08,\n",
              "  196.17,\n",
              "  598.08,\n",
              "  185.93,\n",
              "  597.59,\n",
              "  173.26,\n",
              "  597.1,\n",
              "  163.02,\n",
              "  597.1,\n",
              "  152.79,\n",
              "  597.59,\n",
              "  143.04,\n",
              "  597.59,\n",
              "  136.21,\n",
              "  598.57,\n",
              "  134.26,\n",
              "  605.88,\n",
              "  127.93,\n",
              "  611.24,\n",
              "  123.05,\n",
              "  617.58,\n",
              "  122.56,\n",
              "  625.38,\n",
              "  125.0,\n",
              "  640.0,\n",
              "  110.87,\n",
              "  640.0,\n",
              "  108.43,\n",
              "  640.0,\n",
              "  103.07,\n",
              "  626.35,\n",
              "  99.17,\n",
              "  621.48,\n",
              "  99.17,\n",
              "  613.19,\n",
              "  100.63,\n",
              "  603.44,\n",
              "  103.55,\n",
              "  597.59,\n",
              "  102.58,\n",
              "  588.33,\n",
              "  101.6,\n",
              "  576.14,\n",
              "  101.6,\n",
              "  563.47,\n",
              "  99.17,\n",
              "  551.28,\n",
              "  96.73,\n",
              "  535.2,\n",
              "  97.22,\n",
              "  523.01,\n",
              "  100.14,\n",
              "  512.77,\n",
              "  102.09,\n",
              "  507.41,\n",
              "  105.02,\n",
              "  504.98,\n",
              "  103.55,\n",
              "  492.3,\n",
              "  101.6,\n",
              "  478.65,\n",
              "  99.65,\n",
              "  468.42,\n",
              "  91.85,\n",
              "  463.05,\n",
              "  86.01,\n",
              "  455.26,\n",
              "  83.08,\n",
              "  446.48,\n",
              "  86.49,\n",
              "  438.68,\n",
              "  91.37,\n",
              "  427.47,\n",
              "  96.73,\n",
              "  421.13,\n",
              "  101.6,\n",
              "  413.33,\n",
              "  107.45,\n",
              "  405.05,\n",
              "  118.66,\n",
              "  395.79,\n",
              "  124.51,\n",
              "  387.5,\n",
              "  128.41,\n",
              "  382.62,\n",
              "  134.75,\n",
              "  380.67,\n",
              "  132.31,\n",
              "  368.98,\n",
              "  131.83,\n",
              "  357.76,\n",
              "  131.83,\n",
              "  345.58,\n",
              "  129.88,\n",
              "  332.42,\n",
              "  127.44,\n",
              "  318.77,\n",
              "  124.51,\n",
              "  294.88,\n",
              "  125.49,\n",
              "  282.7,\n",
              "  123.54,\n",
              "  267.1,\n",
              "  125.0,\n",
              "  257.35,\n",
              "  126.75,\n",
              "  249.45,\n",
              "  131.1,\n",
              "  241.63,\n",
              "  137.19,\n",
              "  236.41,\n",
              "  144.14,\n",
              "  231.62,\n",
              "  149.36,\n",
              "  231.62,\n",
              "  159.8,\n",
              "  233.36,\n",
              "  172.41,\n",
              "  231.62,\n",
              "  182.85,\n",
              "  229.01,\n",
              "  193.29,\n",
              "  226.41,\n",
              "  206.77,\n",
              "  223.8,\n",
              "  217.21,\n",
              "  221.19,\n",
              "  228.95,\n",
              "  220.75,\n",
              "  237.21,\n",
              "  219.88,\n",
              "  250.26,\n",
              "  219.88,\n",
              "  260.7,\n",
              "  222.49,\n",
              "  268.09,\n",
              "  222.93,\n",
              "  275.92,\n",
              "  224.23,\n",
              "  284.62,\n",
              "  227.27,\n",
              "  295.06,\n",
              "  226.84,\n",
              "  306.8,\n",
              "  227.71,\n",
              "  312.02,\n",
              "  230.75,\n",
              "  320.28,\n",
              "  228.58,\n",
              "  324.63,\n",
              "  228.14,\n",
              "  331.15,\n",
              "  229.45,\n",
              "  334.63,\n",
              "  232.06,\n",
              "  338.11,\n",
              "  235.97,\n",
              "  342.9,\n",
              "  242.93,\n",
              "  344.64,\n",
              "  249.02,\n",
              "  345.51,\n",
              "  255.98,\n",
              "  345.51,\n",
              "  262.94,\n",
              "  346.1,\n",
              "  267.9,\n",
              "  346.1,\n",
              "  276.51,\n",
              "  346.1,\n",
              "  286.35,\n",
              "  345.79,\n",
              "  290.96,\n",
              "  345.79,\n",
              "  296.5,\n",
              "  345.18,\n",
              "  302.95,\n",
              "  344.87,\n",
              "  311.26,\n",
              "  344.56,\n",
              "  318.64,\n",
              "  343.64,\n",
              "  323.56,\n",
              "  343.02,\n",
              "  326.94,\n",
              "  341.18,\n",
              "  334.01,\n",
              "  341.18,\n",
              "  339.86,\n",
              "  340.87,\n",
              "  345.7,\n",
              "  340.87,\n",
              "  354.31,\n",
              "  340.87,\n",
              "  363.54,\n",
              "  340.87,\n",
              "  370.61,\n",
              "  336.87,\n",
              "  365.69,\n",
              "  336.87,\n",
              "  358.0,\n",
              "  332.57,\n",
              "  351.23,\n",
              "  328.88,\n",
              "  346.62,\n",
              "  323.96,\n",
              "  344.78,\n",
              "  318.11,\n",
              "  341.7,\n",
              "  314.73,\n",
              "  338.93,\n",
              "  308.89,\n",
              "  337.7,\n",
              "  304.28,\n",
              "  336.78,\n",
              "  299.05,\n",
              "  336.78,\n",
              "  293.82,\n",
              "  337.4,\n",
              "  290.75,\n",
              "  340.78,\n",
              "  287.05,\n",
              "  345.08,\n",
              "  283.98,\n",
              "  349.08,\n",
              "  280.6,\n",
              "  353.69,\n",
              "  278.14,\n",
              "  358.31,\n",
              "  274.75,\n",
              "  363.23,\n",
              "  269.83,\n",
              "  366.92,\n",
              "  265.84,\n",
              "  369.38,\n",
              "  262.15,\n",
              "  370.61,\n",
              "  260.61,\n",
              "  373.38,\n",
              "  260.92,\n",
              "  376.76,\n",
              "  258.15,\n",
              "  379.83,\n",
              "  252.92,\n",
              "  382.29,\n",
              "  248.0,\n",
              "  385.98,\n",
              "  243.69,\n",
              "  386.91,\n",
              "  241.69,\n",
              "  386.67,\n",
              "  236.9,\n",
              "  386.89,\n",
              "  230.81,\n",
              "  387.75,\n",
              "  226.46,\n",
              "  388.19,\n",
              "  221.46,\n",
              "  389.71,\n",
              "  217.77,\n",
              "  390.36,\n",
              "  212.11,\n",
              "  390.8,\n",
              "  208.63,\n",
              "  392.1,\n",
              "  206.02,\n",
              "  393.19,\n",
              "  203.2,\n",
              "  394.06,\n",
              "  201.24,\n",
              "  394.93,\n",
              "  193.63,\n",
              "  397.11,\n",
              "  190.15,\n",
              "  398.84,\n",
              "  187.32,\n",
              "  400.15,\n",
              "  183.84,\n",
              "  401.02,\n",
              "  182.32,\n",
              "  402.76,\n",
              "  181.23,\n",
              "  404.5,\n",
              "  178.84,\n",
              "  405.37,\n",
              "  176.23,\n",
              "  406.46,\n",
              "  174.49,\n",
              "  407.11,\n",
              "  173.84,\n",
              "  409.07,\n",
              "  173.62,\n",
              "  411.46,\n",
              "  171.88,\n",
              "  413.41,\n",
              "  169.27,\n",
              "  415.15,\n",
              "  167.97,\n",
              "  418.2,\n",
              "  167.75,\n",
              "  421.24,\n",
              "  165.58,\n",
              "  424.07,\n",
              "  164.92,\n",
              "  426.46,\n",
              "  164.92,\n",
              "  429.29,\n",
              "  163.84,\n",
              "  433.2,\n",
              "  162.53,\n",
              "  434.94,\n",
              "  162.53,\n",
              "  438.42,\n",
              "  162.97,\n",
              "  442.34,\n",
              "  163.18,\n",
              "  445.16,\n",
              "  163.18,\n",
              "  447.34,\n",
              "  164.27,\n",
              "  450.82,\n",
              "  164.05,\n",
              "  453.43,\n",
              "  164.05,\n",
              "  459.51,\n",
              "  165.58,\n",
              "  462.34,\n",
              "  165.58,\n",
              "  465.17,\n",
              "  165.79,\n",
              "  468.21,\n",
              "  166.01,\n",
              "  470.39,\n",
              "  166.66,\n",
              "  471.91,\n",
              "  167.1,\n",
              "  474.52,\n",
              "  167.97,\n",
              "  476.69,\n",
              "  168.4,\n",
              "  480.17,\n",
              "  169.27,\n",
              "  484.09,\n",
              "  172.75,\n",
              "  486.48,\n",
              "  174.71,\n",
              "  486.48,\n",
              "  178.41,\n",
              "  487.13,\n",
              "  181.23,\n",
              "  489.31,\n",
              "  184.28,\n",
              "  491.48,\n",
              "  187.1,\n",
              "  492.78,\n",
              "  192.11,\n",
              "  494.96,\n",
              "  197.54,\n",
              "  496.92,\n",
              "  200.8,\n",
              "  499.09,\n",
              "  204.07,\n",
              "  499.74,\n",
              "  207.54,\n",
              "  501.92,\n",
              "  211.02,\n",
              "  504.74,\n",
              "  212.76,\n",
              "  505.83,\n",
              "  217.55,\n",
              "  504.53,\n",
              "  219.29,\n",
              "  504.74,\n",
              "  222.11,\n",
              "  504.96,\n",
              "  226.25,\n",
              "  504.96,\n",
              "  229.51,\n",
              "  505.18,\n",
              "  230.81,\n",
              "  505.18,\n",
              "  232.99,\n",
              "  504.74,\n",
              "  237.34,\n",
              "  504.74,\n",
              "  241.69,\n",
              "  503.0,\n",
              "  247.77,\n",
              "  503.0,\n",
              "  252.99,\n",
              "  501.05,\n",
              "  260.39,\n",
              "  500.18,\n",
              "  262.78,\n",
              "  500.18,\n",
              "  266.91,\n",
              "  499.96,\n",
              "  271.04,\n",
              "  499.74,\n",
              "  276.69,\n",
              "  499.09,\n",
              "  282.57,\n",
              "  498.87,\n",
              "  287.35,\n",
              "  496.48,\n",
              "  293.66,\n",
              "  494.31,\n",
              "  298.44,\n",
              "  491.26,\n",
              "  304.75,\n",
              "  486.7,\n",
              "  307.79,\n",
              "  482.56,\n",
              "  311.92,\n",
              "  479.3,\n",
              "  314.97,\n",
              "  478.0,\n",
              "  316.05,\n",
              "  477.35,\n",
              "  316.92,\n",
              "  479.52,\n",
              "  316.92,\n",
              "  483.43,\n",
              "  315.62,\n",
              "  487.78,\n",
              "  314.1,\n",
              "  491.26,\n",
              "  315.4,\n",
              "  494.09,\n",
              "  320.84,\n",
              "  493.22,\n",
              "  324.32,\n",
              "  493.44,\n",
              "  328.45,\n",
              "  492.13,\n",
              "  332.15,\n",
              "  490.83,\n",
              "  334.75,\n",
              "  489.52,\n",
              "  334.32,\n",
              "  486.26,\n",
              "  333.23,\n",
              "  482.13,\n",
              "  332.8,\n",
              "  477.13,\n",
              "  330.84,\n",
              "  466.91,\n",
              "  330.84,\n",
              "  462.12,\n",
              "  329.1,\n",
              "  457.77,\n",
              "  327.58,\n",
              "  453.64,\n",
              "  321.71,\n",
              "  450.82,\n",
              "  319.32,\n",
              "  451.03,\n",
              "  318.88,\n",
              "  447.55,\n",
              "  318.45,\n",
              "  441.9,\n",
              "  319.97,\n",
              "  438.42,\n",
              "  318.88,\n",
              "  435.16,\n",
              "  317.58,\n",
              "  433.85,\n",
              "  314.31,\n",
              "  429.51,\n",
              "  311.05,\n",
              "  427.33,\n",
              "  314.31,\n",
              "  422.33,\n",
              "  316.27,\n",
              "  418.2,\n",
              "  317.14,\n",
              "  414.72,\n",
              "  319.75,\n",
              "  410.8,\n",
              "  321.71,\n",
              "  408.2,\n",
              "  323.23,\n",
              "  406.24,\n",
              "  327.36,\n",
              "  407.11,\n",
              "  331.49,\n",
              "  407.98,\n",
              "  336.71,\n",
              "  407.98,\n",
              "  339.54,\n",
              "  407.76,\n",
              "  344.11,\n",
              "  407.11,\n",
              "  349.54,\n",
              "  404.06,\n",
              "  354.11,\n",
              "  400.58,\n",
              "  356.07,\n",
              "  397.54,\n",
              "  358.89,\n",
              "  400.8,\n",
              "  361.72,\n",
              "  404.93,\n",
              "  364.76,\n",
              "  410.15,\n",
              "  366.5,\n",
              "  413.41,\n",
              "  369.11,\n",
              "  417.33,\n",
              "  371.07,\n",
              "  419.94,\n",
              "  372.16,\n",
              "  423.42,\n",
              "  373.03,\n",
              "  426.03,\n",
              "  374.77,\n",
              "  429.72,\n",
              "  378.68,\n",
              "  433.85,\n",
              "  381.29,\n",
              "  439.29,\n",
              "  384.77,\n",
              "  444.51,\n",
              "  384.12,\n",
              "  447.77,\n",
              "  383.9,\n",
              "  450.6,\n",
              "  382.59,\n",
              "  454.51,\n",
              "  380.2,\n",
              "  459.3,\n",
              "  378.68,\n",
              "  461.91,\n",
              "  376.51,\n",
              "  465.39,\n",
              "  374.11,\n",
              "  467.34,\n",
              "  370.85,\n",
              "  467.56,\n",
              "  368.24,\n",
              "  468.21,\n",
              "  367.37,\n",
              "  471.04,\n",
              "  366.29,\n",
              "  477.13,\n",
              "  366.29,\n",
              "  484.96,\n",
              "  366.07,\n",
              "  487.57,\n",
              "  365.63,\n",
              "  494.74,\n",
              "  365.63,\n",
              "  498.87,\n",
              "  365.63,\n",
              "  501.27,\n",
              "  366.94,\n",
              "  503.44,\n",
              "  371.07,\n",
              "  507.14,\n",
              "  373.24,\n",
              "  511.7,\n",
              "  375.42,\n",
              "  517.57,\n",
              "  375.42,\n",
              "  525.4,\n",
              "  375.85,\n",
              "  530.62,\n",
              "  375.85,\n",
              "  538.88,\n",
              "  374.77,\n",
              "  545.41,\n",
              "  372.81,\n",
              "  553.89,\n",
              "  372.81,\n",
              "  559.54,\n",
              "  372.16,\n",
              "  569.55,\n",
              "  371.07,\n",
              "  573.89,\n",
              "  370.63,\n",
              "  580.42,\n",
              "  369.33,\n",
              "  590.86,\n",
              "  369.11,\n",
              "  595.86,\n",
              "  370.42,\n",
              "  600.42,\n",
              "  371.07,\n",
              "  605.86,\n",
              "  372.16,\n",
              "  609.77,\n",
              "  373.9,\n",
              "  613.25,\n",
              "  373.9,\n",
              "  616.3,\n",
              "  371.07,\n",
              "  624.56,\n",
              "  368.89,\n",
              "  628.48,\n",
              "  367.16,\n",
              "  630.87,\n",
              "  364.76,\n",
              "  635.22,\n",
              "  364.33,\n",
              "  635.65,\n",
              "  361.72,\n",
              "  635.65,\n",
              "  349.32,\n",
              "  635.65,\n",
              "  351.5,\n",
              "  632.61,\n",
              "  351.5,\n",
              "  627.39,\n",
              "  351.93,\n",
              "  625.0,\n",
              "  352.15,\n",
              "  622.39,\n",
              "  352.15,\n",
              "  619.56,\n",
              "  350.41,\n",
              "  616.95,\n",
              "  347.15,\n",
              "  613.69,\n",
              "  341.5,\n",
              "  609.99,\n",
              "  339.32,\n",
              "  608.47,\n",
              "  337.15,\n",
              "  604.77,\n",
              "  335.19,\n",
              "  600.64,\n",
              "  334.97,\n",
              "  597.6,\n",
              "  331.06,\n",
              "  596.73,\n",
              "  326.49,\n",
              "  596.73,\n",
              "  320.84,\n",
              "  597.16,\n",
              "  316.71,\n",
              "  596.94,\n",
              "  312.57,\n",
              "  597.38,\n",
              "  308.88,\n",
              "  597.38,\n",
              "  305.4,\n",
              "  597.81,\n",
              "  300.4,\n",
              "  597.81,\n",
              "  293.22,\n",
              "  598.03,\n",
              "  289.74,\n",
              "  598.25,\n",
              "  284.31,\n",
              "  598.25,\n",
              "  279.96,\n",
              "  598.25,\n",
              "  270.75,\n",
              "  598.57]]"
            ]
          },
          "metadata": {},
          "execution_count": 178
        }
      ]
    },
    {
      "cell_type": "code",
      "source": [
        "len(list(map(str,data['annotations'][0]['segmentation'][0])))"
      ],
      "metadata": {
        "colab": {
          "base_uri": "https://localhost:8080/"
        },
        "id": "Ugp2KkEOEBLK",
        "outputId": "ceb0f1b1-8030-4a80-f81d-ef3d3c79d187"
      },
      "execution_count": null,
      "outputs": [
        {
          "output_type": "execute_result",
          "data": {
            "text/plain": [
              "670"
            ]
          },
          "metadata": {},
          "execution_count": 165
        }
      ]
    },
    {
      "cell_type": "code",
      "source": [
        "yolo_data = [str(data['annotations'][0]['category_id'])]  +list(map(str,data['annotations'][0]['bbox'])) +list(map(str,data['annotations'][0]['segmentation'][0]))"
      ],
      "metadata": {
        "id": "XgAf_TOvyyHD"
      },
      "execution_count": null,
      "outputs": []
    },
    {
      "cell_type": "code",
      "source": [
        "data['images'][0]['height']"
      ],
      "metadata": {
        "colab": {
          "base_uri": "https://localhost:8080/"
        },
        "id": "3gVq3bCvWGbv",
        "outputId": "20ac7e04-8721-45ff-c617-47aa507bb9cf"
      },
      "execution_count": 34,
      "outputs": [
        {
          "output_type": "execute_result",
          "data": {
            "text/plain": [
              "427"
            ]
          },
          "metadata": {},
          "execution_count": 34
        }
      ]
    },
    {
      "cell_type": "code",
      "source": [
        "\" \".join(yolo_data)"
      ],
      "metadata": {
        "colab": {
          "base_uri": "https://localhost:8080/",
          "height": 747
        },
        "id": "WVoEobue29ea",
        "outputId": "9b391b03-e007-4599-9fd9-4c8cfc9cb86b"
      },
      "execution_count": null,
      "outputs": [
        {
          "output_type": "execute_result",
          "data": {
            "text/plain": [
              "'232 83.08 219.88 301.69 420.12 270.75 598.57 261.98 598.57 247.84 598.57 234.68 598.08 221.52 598.08 208.84 598.08 196.17 598.08 185.93 597.59 173.26 597.1 163.02 597.1 152.79 597.59 143.04 597.59 136.21 598.57 134.26 605.88 127.93 611.24 123.05 617.58 122.56 625.38 125.0 640.0 110.87 640.0 108.43 640.0 103.07 626.35 99.17 621.48 99.17 613.19 100.63 603.44 103.55 597.59 102.58 588.33 101.6 576.14 101.6 563.47 99.17 551.28 96.73 535.2 97.22 523.01 100.14 512.77 102.09 507.41 105.02 504.98 103.55 492.3 101.6 478.65 99.65 468.42 91.85 463.05 86.01 455.26 83.08 446.48 86.49 438.68 91.37 427.47 96.73 421.13 101.6 413.33 107.45 405.05 118.66 395.79 124.51 387.5 128.41 382.62 134.75 380.67 132.31 368.98 131.83 357.76 131.83 345.58 129.88 332.42 127.44 318.77 124.51 294.88 125.49 282.7 123.54 267.1 125.0 257.35 126.75 249.45 131.1 241.63 137.19 236.41 144.14 231.62 149.36 231.62 159.8 233.36 172.41 231.62 182.85 229.01 193.29 226.41 206.77 223.8 217.21 221.19 228.95 220.75 237.21 219.88 250.26 219.88 260.7 222.49 268.09 222.93 275.92 224.23 284.62 227.27 295.06 226.84 306.8 227.71 312.02 230.75 320.28 228.58 324.63 228.14 331.15 229.45 334.63 232.06 338.11 235.97 342.9 242.93 344.64 249.02 345.51 255.98 345.51 262.94 346.1 267.9 346.1 276.51 346.1 286.35 345.79 290.96 345.79 296.5 345.18 302.95 344.87 311.26 344.56 318.64 343.64 323.56 343.02 326.94 341.18 334.01 341.18 339.86 340.87 345.7 340.87 354.31 340.87 363.54 340.87 370.61 336.87 365.69 336.87 358.0 332.57 351.23 328.88 346.62 323.96 344.78 318.11 341.7 314.73 338.93 308.89 337.7 304.28 336.78 299.05 336.78 293.82 337.4 290.75 340.78 287.05 345.08 283.98 349.08 280.6 353.69 278.14 358.31 274.75 363.23 269.83 366.92 265.84 369.38 262.15 370.61 260.61 373.38 260.92 376.76 258.15 379.83 252.92 382.29 248.0 385.98 243.69 386.91 241.69 386.67 236.9 386.89 230.81 387.75 226.46 388.19 221.46 389.71 217.77 390.36 212.11 390.8 208.63 392.1 206.02 393.19 203.2 394.06 201.24 394.93 193.63 397.11 190.15 398.84 187.32 400.15 183.84 401.02 182.32 402.76 181.23 404.5 178.84 405.37 176.23 406.46 174.49 407.11 173.84 409.07 173.62 411.46 171.88 413.41 169.27 415.15 167.97 418.2 167.75 421.24 165.58 424.07 164.92 426.46 164.92 429.29 163.84 433.2 162.53 434.94 162.53 438.42 162.97 442.34 163.18 445.16 163.18 447.34 164.27 450.82 164.05 453.43 164.05 459.51 165.58 462.34 165.58 465.17 165.79 468.21 166.01 470.39 166.66 471.91 167.1 474.52 167.97 476.69 168.4 480.17 169.27 484.09 172.75 486.48 174.71 486.48 178.41 487.13 181.23 489.31 184.28 491.48 187.1 492.78 192.11 494.96 197.54 496.92 200.8 499.09 204.07 499.74 207.54 501.92 211.02 504.74 212.76 505.83 217.55 504.53 219.29 504.74 222.11 504.96 226.25 504.96 229.51 505.18 230.81 505.18 232.99 504.74 237.34 504.74 241.69 503.0 247.77 503.0 252.99 501.05 260.39 500.18 262.78 500.18 266.91 499.96 271.04 499.74 276.69 499.09 282.57 498.87 287.35 496.48 293.66 494.31 298.44 491.26 304.75 486.7 307.79 482.56 311.92 479.3 314.97 478.0 316.05 477.35 316.92 479.52 316.92 483.43 315.62 487.78 314.1 491.26 315.4 494.09 320.84 493.22 324.32 493.44 328.45 492.13 332.15 490.83 334.75 489.52 334.32 486.26 333.23 482.13 332.8 477.13 330.84 466.91 330.84 462.12 329.1 457.77 327.58 453.64 321.71 450.82 319.32 451.03 318.88 447.55 318.45 441.9 319.97 438.42 318.88 435.16 317.58 433.85 314.31 429.51 311.05 427.33 314.31 422.33 316.27 418.2 317.14 414.72 319.75 410.8 321.71 408.2 323.23 406.24 327.36 407.11 331.49 407.98 336.71 407.98 339.54 407.76 344.11 407.11 349.54 404.06 354.11 400.58 356.07 397.54 358.89 400.8 361.72 404.93 364.76 410.15 366.5 413.41 369.11 417.33 371.07 419.94 372.16 423.42 373.03 426.03 374.77 429.72 378.68 433.85 381.29 439.29 384.77 444.51 384.12 447.77 383.9 450.6 382.59 454.51 380.2 459.3 378.68 461.91 376.51 465.39 374.11 467.34 370.85 467.56 368.24 468.21 367.37 471.04 366.29 477.13 366.29 484.96 366.07 487.57 365.63 494.74 365.63 498.87 365.63 501.27 366.94 503.44 371.07 507.14 373.24 511.7 375.42 517.57 375.42 525.4 375.85 530.62 375.85 538.88 374.77 545.41 372.81 553.89 372.81 559.54 372.16 569.55 371.07 573.89 370.63 580.42 369.33 590.86 369.11 595.86 370.42 600.42 371.07 605.86 372.16 609.77 373.9 613.25 373.9 616.3 371.07 624.56 368.89 628.48 367.16 630.87 364.76 635.22 364.33 635.65 361.72 635.65 349.32 635.65 351.5 632.61 351.5 627.39 351.93 625.0 352.15 622.39 352.15 619.56 350.41 616.95 347.15 613.69 341.5 609.99 339.32 608.47 337.15 604.77 335.19 600.64 334.97 597.6 331.06 596.73 326.49 596.73 320.84 597.16 316.71 596.94 312.57 597.38 308.88 597.38 305.4 597.81 300.4 597.81 293.22 598.03 289.74 598.25 284.31 598.25 279.96 598.25 270.75 598.57'"
            ],
            "application/vnd.google.colaboratory.intrinsic+json": {
              "type": "string"
            }
          },
          "metadata": {},
          "execution_count": 164
        }
      ]
    },
    {
      "cell_type": "code",
      "source": [
        "store = data"
      ],
      "metadata": {
        "id": "S-VpS31pEsUg"
      },
      "execution_count": null,
      "outputs": []
    },
    {
      "cell_type": "code",
      "source": [],
      "metadata": {
        "colab": {
          "base_uri": "https://localhost:8080/"
        },
        "id": "a9MK14jiSsoF",
        "outputId": "f7ff896d-a7ca-4212-fb4f-fc0b6ada09a8"
      },
      "execution_count": 24,
      "outputs": [
        {
          "output_type": "execute_result",
          "data": {
            "text/plain": [
              "232"
            ]
          },
          "metadata": {},
          "execution_count": 24
        }
      ]
    },
    {
      "cell_type": "code",
      "source": [
        "import cv2 as cv\n",
        "import matplotlib.pyplot as plt\n",
        "img = cv.imread('/content/yolo_dataset/valid/val2017/000000446522.jpg')\n",
        "plt.imshow(img)"
      ],
      "metadata": {
        "colab": {
          "base_uri": "https://localhost:8080/",
          "height": 452
        },
        "id": "wEdpZKIil6ds",
        "outputId": "6e3fb41b-2ddf-4cae-ec5f-a50c00f1e92e"
      },
      "execution_count": null,
      "outputs": [
        {
          "output_type": "execute_result",
          "data": {
            "text/plain": [
              "<matplotlib.image.AxesImage at 0x796d35590160>"
            ]
          },
          "metadata": {},
          "execution_count": 150
        },
        {
          "output_type": "display_data",
          "data": {
            "text/plain": [
              "<Figure size 640x480 with 1 Axes>"
            ],
            "image/png": "[encoded data removed]"
          },
          "metadata": {}
        }
      ]
    },
    {
      "cell_type": "code",
      "source": [
        "def normalize(sequence, height, width):\n",
        "  for i in range(len(sequence)):\n",
        "    if i%2 == 0:\n",
        "      sequence[i] = sequence[i]/width\n",
        "    else:\n",
        "      sequence[i] = sequence[i]/height\n",
        "  return sequence"
      ],
      "metadata": {
        "id": "Atrhcb5CUYpS"
      },
      "execution_count": 30,
      "outputs": []
    },
    {
      "cell_type": "code",
      "source": [
        "data['images'][0]['width']\n"
      ],
      "metadata": {
        "colab": {
          "base_uri": "https://localhost:8080/"
        },
        "id": "ebVLe0srX_c6",
        "outputId": "aea753d0-04c3-481a-8524-2055a0205aef"
      },
      "execution_count": 41,
      "outputs": [
        {
          "output_type": "execute_result",
          "data": {
            "text/plain": [
              "640"
            ]
          },
          "metadata": {},
          "execution_count": 41
        }
      ]
    },
    {
      "cell_type": "code",
      "source": [
        "import cv2 as cv"
      ],
      "metadata": {
        "id": "tasCE6uaZFTM"
      },
      "execution_count": 54,
      "outputs": []
    },
    {
      "cell_type": "code",
      "source": [
        "def lviztoyolo(data,train_valid):\n",
        "    for j in range(len(data['annotations'])):\n",
        "      img_id = data['annotations'][j]['image_id']\n",
        "      image_name = str(img_id).zfill(12)\n",
        "      file_path = f'yolofinal_dataset/{train_valid}/images/'+image_name +\".jpg\"\n",
        "      class_id = data['annotations'][j]['category_id']\n",
        "      segmentation = data['annotations'][j]['segmentation']\n",
        "\n",
        "\n",
        "      for i in segmentation:\n",
        "        img = cv.imread(f'yolo_dataset/{train_valid}/images/{image_name}'+'.jpg')\n",
        "        height, width, _ = img.shape\n",
        "        i = list(normalize(i,height,width))\n",
        "\n",
        "        text = str(class_id) + \" \"  + \" \".join(map(str, i))\n",
        "\n",
        "\n",
        "        try:\n",
        "            with open(f'yolo_dataset/{train_valid}/labels/{image_name}.txt', 'x') as file:\n",
        "                  file.write(f'{text}\\n')\n",
        "        except FileExistsError:\n",
        "            with open(f'yolo_dataset/{train_valid}/labels/{image_name}.txt', 'a') as file:\n",
        "                  file.write(f'{text}\\n')\n",
        "\n",
        ""
      ],
      "metadata": {
        "id": "WXbzWhmHk70X"
      },
      "execution_count": 55,
      "outputs": []
    },
    {
      "cell_type": "code",
      "source": [
        "len(os.listdir('yolo_dataset/valid/images'))"
      ],
      "metadata": {
        "colab": {
          "base_uri": "https://localhost:8080/"
        },
        "id": "YMfeBQSaYeJ0",
        "outputId": "27a84e95-4e65-43ad-d709-486f55240069"
      },
      "execution_count": 48,
      "outputs": [
        {
          "output_type": "execute_result",
          "data": {
            "text/plain": [
              "5000"
            ]
          },
          "metadata": {},
          "execution_count": 48
        }
      ]
    },
    {
      "cell_type": "code",
      "source": [
        "os.makedirs('yolo_dataset/valid/labels',exist_ok = True)"
      ],
      "metadata": {
        "id": "jaNJjyOwY0I-"
      },
      "execution_count": 50,
      "outputs": []
    },
    {
      "cell_type": "code",
      "source": [
        "lviztoyolo(data,'valid')"
      ],
      "metadata": {
        "colab": {
          "base_uri": "https://localhost:8080/",
          "height": 263
        },
        "id": "QCqdzbSRQgYx",
        "outputId": "66bb7039-0479-4f64-9a10-224ddc7cd906"
      },
      "execution_count": 56,
      "outputs": [
        {
          "output_type": "error",
          "ename": "AttributeError",
          "evalue": "'NoneType' object has no attribute 'shape'",
          "traceback": [
            "\u001b[0;31m---------------------------------------------------------------------------\u001b[0m",
            "\u001b[0;31mAttributeError\u001b[0m                            Traceback (most recent call last)",
            "\u001b[0;32m<ipython-input-56-bbb207bcf082>\u001b[0m in \u001b[0;36m<cell line: 1>\u001b[0;34m()\u001b[0m\n\u001b[0;32m----> 1\u001b[0;31m \u001b[0mlviztoyolo\u001b[0m\u001b[0;34m(\u001b[0m\u001b[0mdata\u001b[0m\u001b[0;34m,\u001b[0m\u001b[0;34m'valid'\u001b[0m\u001b[0;34m)\u001b[0m\u001b[0;34m\u001b[0m\u001b[0;34m\u001b[0m\u001b[0m\n\u001b[0m",
            "\u001b[0;32m<ipython-input-55-dadbe9e70a53>\u001b[0m in \u001b[0;36mlviztoyolo\u001b[0;34m(data, train_valid)\u001b[0m\n\u001b[1;32m     10\u001b[0m       \u001b[0;32mfor\u001b[0m \u001b[0mi\u001b[0m \u001b[0;32min\u001b[0m \u001b[0msegmentation\u001b[0m\u001b[0;34m:\u001b[0m\u001b[0;34m\u001b[0m\u001b[0;34m\u001b[0m\u001b[0m\n\u001b[1;32m     11\u001b[0m         \u001b[0mimg\u001b[0m \u001b[0;34m=\u001b[0m \u001b[0mcv\u001b[0m\u001b[0;34m.\u001b[0m\u001b[0mimread\u001b[0m\u001b[0;34m(\u001b[0m\u001b[0;34mf'yolo_dataset/{train_valid}/images/{image_name}'\u001b[0m\u001b[0;34m+\u001b[0m\u001b[0;34m'.jpg'\u001b[0m\u001b[0;34m)\u001b[0m\u001b[0;34m\u001b[0m\u001b[0;34m\u001b[0m\u001b[0m\n\u001b[0;32m---> 12\u001b[0;31m         \u001b[0mheight\u001b[0m\u001b[0;34m,\u001b[0m \u001b[0mwidth\u001b[0m\u001b[0;34m,\u001b[0m \u001b[0m_\u001b[0m \u001b[0;34m=\u001b[0m \u001b[0mimg\u001b[0m\u001b[0;34m.\u001b[0m\u001b[0mshape\u001b[0m\u001b[0;34m\u001b[0m\u001b[0;34m\u001b[0m\u001b[0m\n\u001b[0m\u001b[1;32m     13\u001b[0m         \u001b[0mi\u001b[0m \u001b[0;34m=\u001b[0m \u001b[0mlist\u001b[0m\u001b[0;34m(\u001b[0m\u001b[0mnormalize\u001b[0m\u001b[0;34m(\u001b[0m\u001b[0mi\u001b[0m\u001b[0;34m,\u001b[0m\u001b[0mheight\u001b[0m\u001b[0;34m,\u001b[0m\u001b[0mwidth\u001b[0m\u001b[0;34m)\u001b[0m\u001b[0;34m)\u001b[0m\u001b[0;34m\u001b[0m\u001b[0;34m\u001b[0m\u001b[0m\n\u001b[1;32m     14\u001b[0m \u001b[0;34m\u001b[0m\u001b[0m\n",
            "\u001b[0;31mAttributeError\u001b[0m: 'NoneType' object has no attribute 'shape'"
          ]
        }
      ]
    },
    {
      "cell_type": "code",
      "source": [],
      "metadata": {
        "id": "b5_XVj-LaDng"
      },
      "execution_count": null,
      "outputs": []
    },
    {
      "cell_type": "code",
      "source": [
        "import shutil"
      ],
      "metadata": {
        "id": "6vZniyIKRoR_"
      },
      "execution_count": 16,
      "outputs": []
    },
    {
      "cell_type": "code",
      "source": [
        "path = '/content/yolo_dataset/valid/images/val2017'\n",
        "for i in os.listdir(path):\n",
        "  shutil.move(\"/content/yolo_dataset/valid/images/val2017/\"+i,\"/content/yolo_dataset/valid/images\")"
      ],
      "metadata": {
        "id": "ROiwcvv3RB__"
      },
      "execution_count": 17,
      "outputs": []
    },
    {
      "cell_type": "code",
      "source": [
        "path = '/content/yolo_dataset/train/images/train2017'\n",
        "for i in os.listdir(path):\n",
        "  shutil.move(\"/content/yolo_dataset/train/images/train2017/\"+i,\"/content/yolo_dataset/train/images\")"
      ],
      "metadata": {
        "id": "RRGJxTFZSLHw"
      },
      "execution_count": 19,
      "outputs": []
    },
    {
      "cell_type": "code",
      "source": [
        "shutil.rmtree('/content/yolo_dataset/valid/images/val2017/')\n",
        "shutil.rmtree('/content/yolo_dataset/train/images/train2017/')"
      ],
      "metadata": {
        "id": "tNEMnrlxSFqq"
      },
      "execution_count": 20,
      "outputs": []
    },
    {
      "cell_type": "code",
      "source": [
        "a = [\"dsf\", \"fdsds\"]\n",
        "\" \".join(a)"
      ],
      "metadata": {
        "id": "7vi3Qf4oFfS0",
        "colab": {
          "base_uri": "https://localhost:8080/",
          "height": 36
        },
        "outputId": "d228550f-ece2-4c67-cfae-df29a516d1ce"
      },
      "execution_count": 13,
      "outputs": [
        {
          "output_type": "execute_result",
          "data": {
            "text/plain": [
              "'dsf fdsds'"
            ],
            "application/vnd.google.colaboratory.intrinsic+json": {
              "type": "string"
            }
          },
          "metadata": {},
          "execution_count": 13
        }
      ]
    },
    {
      "cell_type": "code",
      "source": [
        "len(\"000000000139\")"
      ],
      "metadata": {
        "colab": {
          "base_uri": "https://localhost:8080/"
        },
        "id": "hYxVaLOpO5a7",
        "outputId": "c08a972c-2aad-46ce-d62c-f49a60ec3c77"
      },
      "execution_count": 14,
      "outputs": [
        {
          "output_type": "execute_result",
          "data": {
            "text/plain": [
              "12"
            ]
          },
          "metadata": {},
          "execution_count": 14
        }
      ]
    },
    {
      "cell_type": "markdown",
      "source": [],
      "metadata": {
        "id": "tDDVthWIsdbr"
      }
    },
    {
      "cell_type": "code",
      "source": [
        "def convert_bbox_to_yolo(bbox, image_width, image_height):\n",
        "    x_min, y_min, width, height = bbox\n",
        "    x_center = (x_min + width / 2) / image_width\n",
        "    y_center = (y_min + height / 2) / image_height\n",
        "    width = width / image_width\n",
        "    height = height / image_height\n",
        "    return [x_center, y_center, width, height]\n",
        "\n",
        "# Normalize segmentation points for YOLO\n",
        "def normalize_polygon(polygon, image_width, image_height):\n",
        "    return [p / image_width if i % 2 == 0 else p / image_height for i, p in enumerate(polygon)]\n"
      ],
      "metadata": {
        "id": "kuNH-d0-r_1o"
      },
      "execution_count": null,
      "outputs": []
    },
    {
      "cell_type": "code",
      "source": [
        "os.makedirs('yolofinal_dataset/valid/labels',exist_ok = True)\n",
        "output_dir = \"yolofinal_dataset/valid/labels\"\n"
      ],
      "metadata": {
        "colab": {
          "base_uri": "https://localhost:8080/",
          "height": 339
        },
        "id": "m8ZUai8jqrlv",
        "outputId": "52020b21-f335-412b-cabb-f83273ae0f22"
      },
      "execution_count": null,
      "outputs": [
        {
          "output_type": "error",
          "ename": "TypeError",
          "evalue": "unsupported operand type(s) for /: 'tuple' and 'int'",
          "traceback": [
            "\u001b[0;31m---------------------------------------------------------------------------\u001b[0m",
            "\u001b[0;31mTypeError\u001b[0m                                 Traceback (most recent call last)",
            "\u001b[0;32m<ipython-input-185-e1822bf80cb6>\u001b[0m in \u001b[0;36m<cell line: 3>\u001b[0;34m()\u001b[0m\n\u001b[1;32m     21\u001b[0m \u001b[0;34m\u001b[0m\u001b[0m\n\u001b[1;32m     22\u001b[0m     \u001b[0;31m# Normalize the segmentation points for YOLO\u001b[0m\u001b[0;34m\u001b[0m\u001b[0;34m\u001b[0m\u001b[0m\n\u001b[0;32m---> 23\u001b[0;31m     \u001b[0mnormalized_segmentation\u001b[0m \u001b[0;34m=\u001b[0m \u001b[0mnormalize_polygon\u001b[0m\u001b[0;34m(\u001b[0m\u001b[0mlist\u001b[0m\u001b[0;34m(\u001b[0m\u001b[0mzip\u001b[0m\u001b[0;34m(\u001b[0m\u001b[0mx_coords\u001b[0m\u001b[0;34m,\u001b[0m \u001b[0my_coords\u001b[0m\u001b[0;34m)\u001b[0m\u001b[0;34m)\u001b[0m\u001b[0;34m,\u001b[0m \u001b[0mimage_width\u001b[0m\u001b[0;34m,\u001b[0m \u001b[0mimage_height\u001b[0m\u001b[0;34m)\u001b[0m\u001b[0;34m\u001b[0m\u001b[0;34m\u001b[0m\u001b[0m\n\u001b[0m\u001b[1;32m     24\u001b[0m \u001b[0;34m\u001b[0m\u001b[0m\n\u001b[1;32m     25\u001b[0m     \u001b[0;31m# Save to a .txt file for each image\u001b[0m\u001b[0;34m\u001b[0m\u001b[0;34m\u001b[0m\u001b[0m\n",
            "\u001b[0;32m<ipython-input-166-bb294736958b>\u001b[0m in \u001b[0;36mnormalize_polygon\u001b[0;34m(polygon, image_width, image_height)\u001b[0m\n\u001b[1;32m      9\u001b[0m \u001b[0;31m# Normalize segmentation points for YOLO\u001b[0m\u001b[0;34m\u001b[0m\u001b[0;34m\u001b[0m\u001b[0m\n\u001b[1;32m     10\u001b[0m \u001b[0;32mdef\u001b[0m \u001b[0mnormalize_polygon\u001b[0m\u001b[0;34m(\u001b[0m\u001b[0mpolygon\u001b[0m\u001b[0;34m,\u001b[0m \u001b[0mimage_width\u001b[0m\u001b[0;34m,\u001b[0m \u001b[0mimage_height\u001b[0m\u001b[0;34m)\u001b[0m\u001b[0;34m:\u001b[0m\u001b[0;34m\u001b[0m\u001b[0;34m\u001b[0m\u001b[0m\n\u001b[0;32m---> 11\u001b[0;31m     \u001b[0;32mreturn\u001b[0m \u001b[0;34m[\u001b[0m\u001b[0mp\u001b[0m \u001b[0;34m/\u001b[0m \u001b[0mimage_width\u001b[0m \u001b[0;32mif\u001b[0m \u001b[0mi\u001b[0m \u001b[0;34m%\u001b[0m \u001b[0;36m2\u001b[0m \u001b[0;34m==\u001b[0m \u001b[0;36m0\u001b[0m \u001b[0;32melse\u001b[0m \u001b[0mp\u001b[0m \u001b[0;34m/\u001b[0m \u001b[0mimage_height\u001b[0m \u001b[0;32mfor\u001b[0m \u001b[0mi\u001b[0m\u001b[0;34m,\u001b[0m \u001b[0mp\u001b[0m \u001b[0;32min\u001b[0m \u001b[0menumerate\u001b[0m\u001b[0;34m(\u001b[0m\u001b[0mpolygon\u001b[0m\u001b[0;34m)\u001b[0m\u001b[0;34m]\u001b[0m\u001b[0;34m\u001b[0m\u001b[0;34m\u001b[0m\u001b[0m\n\u001b[0m",
            "\u001b[0;32m<ipython-input-166-bb294736958b>\u001b[0m in \u001b[0;36m<listcomp>\u001b[0;34m(.0)\u001b[0m\n\u001b[1;32m      9\u001b[0m \u001b[0;31m# Normalize segmentation points for YOLO\u001b[0m\u001b[0;34m\u001b[0m\u001b[0;34m\u001b[0m\u001b[0m\n\u001b[1;32m     10\u001b[0m \u001b[0;32mdef\u001b[0m \u001b[0mnormalize_polygon\u001b[0m\u001b[0;34m(\u001b[0m\u001b[0mpolygon\u001b[0m\u001b[0;34m,\u001b[0m \u001b[0mimage_width\u001b[0m\u001b[0;34m,\u001b[0m \u001b[0mimage_height\u001b[0m\u001b[0;34m)\u001b[0m\u001b[0;34m:\u001b[0m\u001b[0;34m\u001b[0m\u001b[0;34m\u001b[0m\u001b[0m\n\u001b[0;32m---> 11\u001b[0;31m     \u001b[0;32mreturn\u001b[0m \u001b[0;34m[\u001b[0m\u001b[0mp\u001b[0m \u001b[0;34m/\u001b[0m \u001b[0mimage_width\u001b[0m \u001b[0;32mif\u001b[0m \u001b[0mi\u001b[0m \u001b[0;34m%\u001b[0m \u001b[0;36m2\u001b[0m \u001b[0;34m==\u001b[0m \u001b[0;36m0\u001b[0m \u001b[0;32melse\u001b[0m \u001b[0mp\u001b[0m \u001b[0;34m/\u001b[0m \u001b[0mimage_height\u001b[0m \u001b[0;32mfor\u001b[0m \u001b[0mi\u001b[0m\u001b[0;34m,\u001b[0m \u001b[0mp\u001b[0m \u001b[0;32min\u001b[0m \u001b[0menumerate\u001b[0m\u001b[0;34m(\u001b[0m\u001b[0mpolygon\u001b[0m\u001b[0;34m)\u001b[0m\u001b[0;34m]\u001b[0m\u001b[0;34m\u001b[0m\u001b[0;34m\u001b[0m\u001b[0m\n\u001b[0m",
            "\u001b[0;31mTypeError\u001b[0m: unsupported operand type(s) for /: 'tuple' and 'int'"
          ]
        }
      ]
    },
    {
      "cell_type": "code",
      "source": [
        "str(1).zfill(12)"
      ],
      "metadata": {
        "colab": {
          "base_uri": "https://localhost:8080/",
          "height": 36
        },
        "id": "JjYsx1xzFJEu",
        "outputId": "038ba99b-cf67-4e03-94d2-0c33bc54cb59"
      },
      "execution_count": null,
      "outputs": [
        {
          "output_type": "execute_result",
          "data": {
            "text/plain": [
              "'000000000001'"
            ],
            "application/vnd.google.colaboratory.intrinsic+json": {
              "type": "string"
            }
          },
          "metadata": {},
          "execution_count": 174
        }
      ]
    },
    {
      "cell_type": "code",
      "source": [
        "len('000000000139')\n"
      ],
      "metadata": {
        "colab": {
          "base_uri": "https://localhost:8080/"
        },
        "id": "U__-yRyRF39v",
        "outputId": "e477e698-7372-44ee-912d-f83183282664"
      },
      "execution_count": null,
      "outputs": [
        {
          "output_type": "execute_result",
          "data": {
            "text/plain": [
              "12"
            ]
          },
          "metadata": {},
          "execution_count": 173
        }
      ]
    }
  ]
}